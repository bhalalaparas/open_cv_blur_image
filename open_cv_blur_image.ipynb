{
 "cells": [
  {
   "cell_type": "code",
   "execution_count": null,
   "metadata": {},
   "outputs": [],
   "source": [
    "import cv2 as cv\n",
    "img = cv.imread(r'C:\\Users\\paras\\Desktop\\download.jpg',1)\n",
    "\n",
    "cv.imshow('original image',img)\n",
    "blur = cv.blur(img,(10,10))\n",
    "cv.imshow('blur image',blur)\n",
    "cv.waitKey(0)\n",
    "cv.distroyAllWindows()\n",
    "\n"
   ]
  },
  {
   "cell_type": "code",
   "execution_count": null,
   "metadata": {},
   "outputs": [],
   "source": [
    "import cv2 as cv\n",
    "import numpy as np\n",
    "img = cv.imread(r'C:\\Users\\paras\\Desktop\\download.jpg',1)\n",
    "dst = cv.medianBlur(img,5)\n",
    "cv.imshow(\"smoothing\",np.hstack((img,dst)))\n",
    "cv.waitKey(0)\n",
    "cv.distroyAllWindows()"
   ]
  },
  {
   "cell_type": "code",
   "execution_count": null,
   "metadata": {},
   "outputs": [],
   "source": [
    "import cv2\n",
    "import numpy as np\n",
    "img = cv.imread(r'C:\\Users\\paras\\Desktop\\download.jpg',1)\n",
    "\n",
    "dst = cv2.GaussianBlur(img,(7,7),cv2.BORDER_DEFAULT)\n",
    "\n",
    "cv2.imshow('result',np.hstack((img,dst)))\n",
    "cv2.waitKey(0)\n",
    "cv2.distroyAllWindows()"
   ]
  }
 ],
 "metadata": {
  "kernelspec": {
   "display_name": "Python 3",
   "language": "python",
   "name": "python3"
  },
  "language_info": {
   "codemirror_mode": {
    "name": "ipython",
    "version": 3
   },
   "file_extension": ".py",
   "mimetype": "text/x-python",
   "name": "python",
   "nbconvert_exporter": "python",
   "pygments_lexer": "ipython3",
   "version": "3.7.4"
  }
 },
 "nbformat": 4,
 "nbformat_minor": 2
}
